{
  "nbformat": 4,
  "nbformat_minor": 0,
  "metadata": {
    "colab": {
      "provenance": [],
      "authorship_tag": "ABX9TyNCN6JXg1NUinZCgZKleecm",
      "include_colab_link": true
    },
    "kernelspec": {
      "name": "python3",
      "display_name": "Python 3"
    },
    "language_info": {
      "name": "python"
    }
  },
  "cells": [
    {
      "cell_type": "markdown",
      "metadata": {
        "id": "view-in-github",
        "colab_type": "text"
      },
      "source": [
        "<a href=\"https://colab.research.google.com/github/YaninaCaffetti/Doc_IT/blob/main/Tesis_Doc.ipynb\" target=\"_parent\"><img src=\"https://colab.research.google.com/assets/colab-badge.svg\" alt=\"Open In Colab\"/></a>"
      ]
    },
    {
      "cell_type": "code",
      "execution_count": null,
      "metadata": {
        "id": "5lnjaCpGkuJh"
      },
      "outputs": [],
      "source": [
        "!pip install -q -U google-generativeai"
      ]
    },
    {
      "cell_type": "code",
      "source": [
        "import pathlib\n",
        "import textwrap\n",
        "\n",
        "import google.generativeai as genai\n",
        "\n",
        "from IPython.display import display\n",
        "from IPython.display import Markdown\n",
        "\n",
        "\n",
        "def to_markdown(text):\n",
        "    text = text.replace(\"•\", \"  *\")\n",
        "    return Markdown(textwrap.indent(text, \"> \", predicate=lambda _: True))"
      ],
      "metadata": {
        "id": "XR7tHN6TlxV5"
      },
      "execution_count": null,
      "outputs": []
    },
    {
      "cell_type": "code",
      "source": [
        "from google.colab import userdata"
      ],
      "metadata": {
        "id": "oS8tSTPjl5b3"
      },
      "execution_count": null,
      "outputs": []
    },
    {
      "cell_type": "code",
      "source": [
        "GOOGLE_API_KEY = userdata.get(\"GOOGLE_API_KEY\")\n",
        "\n",
        "genai.configure(api_key=GOOGLE_API_KEY)"
      ],
      "metadata": {
        "id": "iqADwofVnYpg"
      },
      "execution_count": null,
      "outputs": []
    },
    {
      "cell_type": "code",
      "source": [
        "model = genai.GenerativeModel(\"gemini-1.5-flash\")"
      ],
      "metadata": {
        "id": "WIlwN8EZnfIF"
      },
      "execution_count": null,
      "outputs": []
    },
    {
      "cell_type": "code",
      "source": [
        "%%time\n",
        "response = model.generate_content(\"WHEN IS A PERSON CONSIDERED TO BE DISABLED?\")"
      ],
      "metadata": {
        "colab": {
          "base_uri": "https://localhost:8080/",
          "height": 51
        },
        "id": "GS4S2HG0nnBU",
        "outputId": "0a75da7b-11bf-434b-db9f-e5ad2c8b509c"
      },
      "execution_count": null,
      "outputs": [
        {
          "output_type": "stream",
          "name": "stdout",
          "text": [
            "CPU times: user 99.8 ms, sys: 7.35 ms, total: 107 ms\n",
            "Wall time: 4.32 s\n"
          ]
        }
      ]
    },
    {
      "cell_type": "code",
      "source": [
        "to_markdown(response.text)"
      ],
      "metadata": {
        "colab": {
          "base_uri": "https://localhost:8080/",
          "height": 290
        },
        "id": "DEnjMBydoH-_",
        "outputId": "e9566844-db1e-450c-a0a0-ba1d3d11be6a"
      },
      "execution_count": null,
      "outputs": [
        {
          "output_type": "execute_result",
          "data": {
            "text/plain": [
              "<IPython.core.display.Markdown object>"
            ],
            "text/markdown": "> A person is considered disabled when they have a physical, mental, cognitive, or sensory impairment that substantially limits one or more major life activities.  The specific definition and criteria vary significantly depending on the context, including:\n> \n> * **Legal definitions:**  Different countries and even different laws within a country have varying legal definitions of disability.  For example, the Americans with Disabilities Act (ADA) in the United States has a specific definition, which focuses on substantial limitations in major life activities.  Other countries, like the UK, have their own legislation (e.g., Equality Act 2010) with different criteria.  These definitions often include a consideration of whether reasonable accommodations could mitigate the impairment.\n> \n> * **Medical definitions:** Medical professionals may use different diagnostic criteria and classifications based on specific conditions and their impact on a person's functioning.  These definitions may not always align perfectly with legal definitions.\n> \n> * **Social model of disability:** This model emphasizes the societal barriers and environmental limitations that create disability, rather than focusing solely on the individual's impairment.  This perspective highlights how social structures and attitudes can significantly impact a person's ability to participate fully in society.\n> \n> Therefore, there's no single, universally accepted definition.  The determination of whether someone is disabled depends on the specific legal, medical, or social framework being used.  It's a complex issue with both individual and societal factors playing crucial roles.\n"
          },
          "metadata": {},
          "execution_count": 9
        }
      ]
    },
    {
      "cell_type": "code",
      "source": [
        "%%time\n",
        "response = model.generate_content(\"WHEN IS A PERSON CONSIDERED TO BE DISABLED IN ARGENTINE?\")"
      ],
      "metadata": {
        "colab": {
          "base_uri": "https://localhost:8080/",
          "height": 51
        },
        "id": "ZbkGUdyMof8F",
        "outputId": "59154631-01c2-4117-9722-a46488cbd119"
      },
      "execution_count": null,
      "outputs": [
        {
          "output_type": "stream",
          "name": "stdout",
          "text": [
            "CPU times: user 73.7 ms, sys: 6.75 ms, total: 80.4 ms\n",
            "Wall time: 4.5 s\n"
          ]
        }
      ]
    },
    {
      "cell_type": "code",
      "source": [
        "to_markdown(response.text)\n"
      ],
      "metadata": {
        "colab": {
          "base_uri": "https://localhost:8080/",
          "height": 324
        },
        "id": "h76XDdWYoomi",
        "outputId": "9fd7c4b6-9226-4b7c-ae11-7978b956bed9"
      },
      "execution_count": null,
      "outputs": [
        {
          "output_type": "execute_result",
          "data": {
            "text/plain": [
              "<IPython.core.display.Markdown object>"
            ],
            "text/markdown": "> In Argentina, a person is considered disabled according to **Law No. 24,901 (National Disability Law)** and its subsequent modifications.  This law doesn't define disability with a single, concise definition but rather through the concept of **\"discapacidad\"** (disability) encompassing a range of limitations.\n> \n> Essentially, a person is considered disabled in Argentina if they have a **long-term physical, mental, intellectual, or sensory impairment** that, in interaction with various barriers, may hinder their full and effective participation in society on an equal basis with others.\n> \n> Key elements to consider include:\n> \n> * **Long-term condition:** The impairment must be lasting or likely to be long-term.\n> * **Significant limitation:** The impairment must significantly limit one or more major life activities.  This can include mobility, self-care, learning, communication, etc.\n> * **Interaction with barriers:** The law recognizes that the impact of a disability is also shaped by societal barriers, like inaccessible environments or discriminatory attitudes.  The presence of these barriers contributes to the individual's level of disability.\n> \n> \n> There's no single medical test or diagnosis that determines disability status.  Instead, a comprehensive assessment often considers multiple factors, including medical evaluations, functional assessments, and the individual's own experience and perspective.  The process is aimed at understanding the impact of the impairment on the individual's life and their ability to participate fully in society.  The person may require a Certificate of Disability (Certificado de Discapacidad) issued by a designated authority to access specific rights and benefits.\n"
          },
          "metadata": {},
          "execution_count": 11
        }
      ]
    },
    {
      "cell_type": "code",
      "source": [
        "response.candidates"
      ],
      "metadata": {
        "colab": {
          "base_uri": "https://localhost:8080/"
        },
        "id": "N6hh6gcyqCYS",
        "outputId": "c5332ff0-ad05-4dd9-eae6-3c44e5277c24"
      },
      "execution_count": null,
      "outputs": [
        {
          "output_type": "execute_result",
          "data": {
            "text/plain": [
              "[content {\n",
              "  parts {\n",
              "    text: \"In Argentina, a person is considered disabled according to **Law No. 24,901 (National Disability Law)** and its subsequent modifications.  This law doesn\\'t define disability with a single, concise definition but rather through the concept of **\\\"discapacidad\\\"** (disability) encompassing a range of limitations.\\n\\nEssentially, a person is considered disabled in Argentina if they have a **long-term physical, mental, intellectual, or sensory impairment** that, in interaction with various barriers, may hinder their full and effective participation in society on an equal basis with others.\\n\\nKey elements to consider include:\\n\\n* **Long-term condition:** The impairment must be lasting or likely to be long-term.\\n* **Significant limitation:** The impairment must significantly limit one or more major life activities.  This can include mobility, self-care, learning, communication, etc.\\n* **Interaction with barriers:** The law recognizes that the impact of a disability is also shaped by societal barriers, like inaccessible environments or discriminatory attitudes.  The presence of these barriers contributes to the individual\\'s level of disability.\\n\\n\\nThere\\'s no single medical test or diagnosis that determines disability status.  Instead, a comprehensive assessment often considers multiple factors, including medical evaluations, functional assessments, and the individual\\'s own experience and perspective.  The process is aimed at understanding the impact of the impairment on the individual\\'s life and their ability to participate fully in society.  The person may require a Certificate of Disability (Certificado de Discapacidad) issued by a designated authority to access specific rights and benefits.\\n\"\n",
              "  }\n",
              "  role: \"model\"\n",
              "}\n",
              "finish_reason: STOP\n",
              "citation_metadata {\n",
              "  citation_sources {\n",
              "    start_index: 397\n",
              "    end_index: 540\n",
              "    uri: \"https://uvicssd.ca/about/ssd-policies-and-bylaws/ssd-constitution/\"\n",
              "  }\n",
              "  citation_sources {\n",
              "    start_index: 459\n",
              "    end_index: 583\n",
              "  }\n",
              "}\n",
              "avg_logprobs: -0.37716756715364985\n",
              "]"
            ]
          },
          "metadata": {},
          "execution_count": 12
        }
      ]
    },
    {
      "cell_type": "code",
      "source": [
        "%%time\n",
        "response = model.generate_content(\"WHEN IS A PERSON CONSIDERED TO BE DISABLED IN ARGENTINE?\", stream=True)"
      ],
      "metadata": {
        "colab": {
          "base_uri": "https://localhost:8080/",
          "height": 51
        },
        "id": "iVqRJ7SFuCul",
        "outputId": "83e610a1-5ac0-49e7-8407-0838a3777495"
      },
      "execution_count": null,
      "outputs": [
        {
          "output_type": "stream",
          "name": "stdout",
          "text": [
            "CPU times: user 77.3 ms, sys: 10.4 ms, total: 87.8 ms\n",
            "Wall time: 4.73 s\n"
          ]
        }
      ]
    },
    {
      "cell_type": "code",
      "source": [
        "for chunk in response:\n",
        "    print(chunk.text)\n",
        "    print(\"_\" * 80)"
      ],
      "metadata": {
        "colab": {
          "base_uri": "https://localhost:8080/"
        },
        "id": "QRmYbcwKucvI",
        "outputId": "31380523-67bd-47be-8087-706634a356cd"
      },
      "execution_count": null,
      "outputs": [
        {
          "output_type": "stream",
          "name": "stdout",
          "text": [
            "In\n",
            "________________________________________________________________________________\n",
            " Argentina, a person is considered disabled according to **Law No. 24\n",
            "________________________________________________________________________________\n",
            ",901 (National Disability Law)** and subsequent modifications.  This law\n",
            "________________________________________________________________________________\n",
            " doesn't define disability with a single, concise definition, but rather through the presence of **long-term physical, mental, intellectual, or sensory impairments**\n",
            "________________________________________________________________________________\n",
            " which, in interaction with various barriers, may hinder their full and effective participation in society on an equal basis with others.\n",
            "\n",
            "Key aspects considered include:\n",
            "\n",
            "*\n",
            "________________________________________________________________________________\n",
            " **Long-term condition:** The impairment must be lasting or permanent, not temporary.\n",
            "* **Functional limitations:** The impairment must significantly limit one or more major life activities.  This can include mobility, self-care, learning, communication\n",
            "________________________________________________________________________________\n",
            ", and participation in social life.\n",
            "* **Interaction with barriers:** The law emphasizes that the limitations are not solely due to the impairment itself, but also due to environmental and social barriers (architectural inaccessibility, discrimination, lack of assistive\n",
            "________________________________________________________________________________\n",
            " technologies, etc.).  This means a person with an impairment might not be considered disabled if those barriers are absent and they can fully participate in society.\n",
            "\n",
            "It's crucial to understand that the determination of disability isn't a simple checklist but a **holistic assessment** considering the individual's specific circumstances and needs\n",
            "________________________________________________________________________________\n",
            ".  This assessment is often conducted by a multidisciplinary team of professionals and may involve various evaluations.  The process and criteria might also vary slightly depending on the specific context (e.g., access to benefits, employment).  The person's self-identification as disabled is also important and respected.\n",
            "\n",
            "In short\n",
            "________________________________________________________________________________\n",
            ",  there's no single medical or functional threshold defining disability in Argentina; it's a complex determination based on interaction between the person's condition and environmental factors that impact their ability to fully participate in society.\n",
            "\n",
            "________________________________________________________________________________\n"
          ]
        }
      ]
    },
    {
      "cell_type": "code",
      "source": [
        "response = model.generate_content(\"WHEN IS A PERSON CONSIDERED TO BE DISABLED IN ARGENTINE?\", stream=True)"
      ],
      "metadata": {
        "id": "nlL7AIpvASNy"
      },
      "execution_count": null,
      "outputs": []
    },
    {
      "cell_type": "code",
      "source": [
        "response.prompt_feedback"
      ],
      "metadata": {
        "colab": {
          "base_uri": "https://localhost:8080/"
        },
        "id": "pKC_wEU0Al4J",
        "outputId": "d3952f73-3600-491e-c0cc-e4998e06939d"
      },
      "execution_count": null,
      "outputs": [
        {
          "output_type": "execute_result",
          "data": {
            "text/plain": []
          },
          "metadata": {},
          "execution_count": 16
        }
      ]
    },
    {
      "cell_type": "code",
      "source": [
        "chat = model.start_chat(history=[])\n",
        "chat"
      ],
      "metadata": {
        "colab": {
          "base_uri": "https://localhost:8080/"
        },
        "id": "JX15xMKfAqEu",
        "outputId": "7f15ead4-c275-45f7-b538-6544136cb63b"
      },
      "execution_count": null,
      "outputs": [
        {
          "output_type": "execute_result",
          "data": {
            "text/plain": [
              "ChatSession(\n",
              "    model=genai.GenerativeModel(\n",
              "        model_name='models/gemini-1.5-flash',\n",
              "        generation_config={},\n",
              "        safety_settings={},\n",
              "        tools=None,\n",
              "        system_instruction=None,\n",
              "        cached_content=None\n",
              "    ),\n",
              "    history=[]\n",
              ")"
            ]
          },
          "metadata": {},
          "execution_count": 17
        }
      ]
    },
    {
      "cell_type": "code",
      "source": [
        "response = chat.send_message(\n",
        "    \"In a sentence it tells a person without knowledge how to obtain a disability certificate in Argentina.\"\n",
        ")\n",
        "to_markdown(response.text)"
      ],
      "metadata": {
        "colab": {
          "base_uri": "https://localhost:8080/",
          "height": 79
        },
        "id": "clBr9l08CZXa",
        "outputId": "1d466720-12bf-40b6-b812-6910cb9226fd"
      },
      "execution_count": null,
      "outputs": [
        {
          "output_type": "execute_result",
          "data": {
            "text/plain": [
              "<IPython.core.display.Markdown object>"
            ],
            "text/markdown": "> To obtain a disability certificate in Argentina, you must undergo a medical evaluation by a designated professional, who will then submit the necessary paperwork to the relevant agency, typically the National Disability Institute (Instituto Nacional de Rehabilitación).\n"
          },
          "metadata": {},
          "execution_count": 18
        }
      ]
    },
    {
      "cell_type": "code",
      "source": [
        "chat.history"
      ],
      "metadata": {
        "colab": {
          "base_uri": "https://localhost:8080/"
        },
        "id": "3aEabmnMCqjZ",
        "outputId": "577be63d-0070-4fb2-cf5f-24ee424d3178"
      },
      "execution_count": null,
      "outputs": [
        {
          "output_type": "execute_result",
          "data": {
            "text/plain": [
              "[parts {\n",
              "   text: \"In a sentence it tells a person without knowledge how to obtain a disability certificate in Argentina.\"\n",
              " }\n",
              " role: \"user\",\n",
              " parts {\n",
              "   text: \"To obtain a disability certificate in Argentina, you must undergo a medical evaluation by a designated professional, who will then submit the necessary paperwork to the relevant agency, typically the National Disability Institute (Instituto Nacional de Rehabilitación).\\n\"\n",
              " }\n",
              " role: \"model\"]"
            ]
          },
          "metadata": {},
          "execution_count": 19
        }
      ]
    },
    {
      "cell_type": "code",
      "source": [
        "response = chat.send_message(\n",
        "    \"Okay, how about a more detailed explanation to a mother?\", stream=True\n",
        ")\n",
        "\n",
        "for chunk in response:\n",
        "    print(chunk.text)\n",
        "    print(\"_\" * 80)"
      ],
      "metadata": {
        "colab": {
          "base_uri": "https://localhost:8080/",
          "height": 326
        },
        "id": "u5cZn4aAC4-g",
        "outputId": "4c8b80df-0a7d-4d69-90aa-2279a4b2683f"
      },
      "execution_count": null,
      "outputs": [
        {
          "output_type": "stream",
          "name": "stdout",
          "text": [
            "Getting\n",
            "________________________________________________________________________________\n",
            " a disability certificate for your child in Argentina involves a few steps.  First,\n",
            "________________________________________________________________________________\n",
            " you'll need to take your child to a qualified medical professional, ideally one\n",
            "________________________________________________________________________________\n",
            " authorized by the National Disability Institute (Instituto Nacional de Rehabilitación – INRE) or your local health authority. This doctor will conduct a thorough evaluation to assess\n",
            "________________________________________________________________________________\n",
            " your child's disability.  They'll create a detailed report outlining the diagnosis, limitations, and recommended support.  This report is crucial.  Then\n",
            "________________________________________________________________________________\n",
            ", with the doctor's report, you'll need to submit the necessary paperwork to the INRE or the relevant provincial agency.  The specific requirements may vary slightly by location, so it's a good idea to check their website\n",
            "________________________________________________________________________________\n",
            " or contact them directly to understand the exact forms and procedures needed.  They'll review the paperwork and, if approved, issue the disability certificate.  This process can take some time, so be patient and persistent.  It's\n",
            "________________________________________________________________________________\n",
            " helpful to keep copies of all documentation and to follow up regularly on the status of your application.\n",
            "\n",
            "________________________________________________________________________________\n"
          ]
        }
      ]
    }
  ]
}